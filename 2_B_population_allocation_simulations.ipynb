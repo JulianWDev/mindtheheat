{
 "cells": [
  {
   "cell_type": "markdown",
   "metadata": {},
   "source": [
    "Import dependencies and files from directory"
   ]
  },
  {
   "cell_type": "code",
   "execution_count": 117,
   "metadata": {},
   "outputs": [],
   "source": [
    "import osmnx as ox\n",
    "import networkx as nx\n",
    "\n",
    "import pandas as pd\n",
    "import geopandas as gpd\n",
    "\n",
    "import matplotlib.pyplot as plt\n",
    "import numpy as np\n",
    "\n",
    "from shapely.geometry import LineString\n",
    "from shapely.geometry import Point\n",
    "from shapely.geometry import Polygon, MultiPolygon\n",
    "\n",
    "from tqdm import tqdm  # Import tqdm for progress bar\n",
    "from tqdm.auto import tqdm\n",
    "from collections import defaultdict\n",
    "\n",
    "from sklearn.neighbors import KDTree\n",
    "\n",
    "import threading\n",
    "from queue import Queue\n",
    "\n",
    "import json\n",
    "import re\n",
    "\n",
    "from concurrent.futures import ThreadPoolExecutor\n",
    "import os\n"
   ]
  },
  {
   "cell_type": "markdown",
   "metadata": {},
   "source": [
    "Import square data and residential units"
   ]
  },
  {
   "cell_type": "code",
   "execution_count": 118,
   "metadata": {},
   "outputs": [],
   "source": [
    "#import CBS square statistics and set to epsg 4326\n",
    "squares = gpd.read_file(\"./root/Inputs/cbs100x100.gpkg\")\n",
    "squares = squares.to_crs(epsg=4326)\n",
    "\n",
    "#import residential units from the BAG and set to epsg 4326\n",
    "residential_units = gpd.read_file(\"./root/Inputs/residential_units.gpkg\")\n",
    "residential_units = residential_units.to_crs(epsg=4326)"
   ]
  },
  {
   "cell_type": "code",
   "execution_count": 119,
   "metadata": {},
   "outputs": [],
   "source": [
    "#import buildings from the BAG and set to epsg 28992\n",
    "buildings = gpd.read_file(\"./root/Inputs/buildings.gpkg\") \n",
    "buildings = buildings.to_crs(epsg=4326)"
   ]
  },
  {
   "cell_type": "markdown",
   "metadata": {},
   "source": [
    "Select only residential units from year 2022 and earlier with function 'residential'"
   ]
  },
  {
   "cell_type": "code",
   "execution_count": 120,
   "metadata": {},
   "outputs": [],
   "source": [
    "residential_units = residential_units[residential_units['gebruiksdoel'].str.contains('woonfunctie')]\n",
    "residential_units = residential_units[residential_units['pandstatus'] == 'Pand in gebruik']\n",
    "residential_units = residential_units[residential_units['bouwjaar'] < 2023]\n",
    "residential_units['pop'] = 0"
   ]
  },
  {
   "cell_type": "markdown",
   "metadata": {},
   "source": [
    "Preprocessing of squares for error handling"
   ]
  },
  {
   "cell_type": "markdown",
   "metadata": {},
   "source": [
    "Calculate number of buildings per square based on an overlay with the residential units and delete squares without residential units"
   ]
  },
  {
   "cell_type": "code",
   "execution_count": 121,
   "metadata": {},
   "outputs": [
    {
     "name": "stdout",
     "output_type": "stream",
     "text": [
      "Dropped 350 squares\n",
      "This is 3.55% of the total\n"
     ]
    }
   ],
   "source": [
    "def count_residential_units_in_squares(residential_units, squares):\n",
    "\n",
    "    # Create a copy of the squares GeoDataFrame\n",
    "    result = squares.copy()\n",
    "    \n",
    "    # Initialize the count column\n",
    "    result['residential_unit_count'] = 0\n",
    "    \n",
    "    # Spatial join between points and polygons\n",
    "    joined = gpd.sjoin(residential_units, squares, how='left', predicate='within')\n",
    "    \n",
    "    # Count points per polygon\n",
    "    if not joined.empty:\n",
    "        point_counts = joined.groupby(joined.index_right).size()\n",
    "        result.loc[point_counts.index, 'residential_unit_count'] = point_counts\n",
    "    \n",
    "    return result\n",
    "\n",
    "#apply function\n",
    "squares = count_residential_units_in_squares(residential_units, squares)\n",
    "\n",
    "#drop squares without registered residential units in them\n",
    "squares_with_residential_units = squares[(squares['residential_unit_count'] > 0)]\n",
    "\n",
    "#report amount and percentage dropped\n",
    "total_squares = len(squares)\n",
    "remaining_squares = len(squares_with_residential_units)\n",
    "dropped_squares = total_squares - remaining_squares\n",
    "\n",
    "# Calculate and print the results\n",
    "print(f\"Dropped {dropped_squares} squares\")\n",
    "print(f\"This is {(dropped_squares/total_squares*100):.2f}% of the total\")"
   ]
  },
  {
   "cell_type": "markdown",
   "metadata": {},
   "source": [
    "Clean up data"
   ]
  },
  {
   "cell_type": "code",
   "execution_count": 122,
   "metadata": {},
   "outputs": [],
   "source": [
    "#drop unnecessary columns\n",
    "columns_to_keep = ['aantal_inwoners', 'aantal_inwoners_0_tot_15_jaar', 'aantal_inwoners_65_jaar_en_ouder', 'aantal_eenpersoonshuishoudens', 'residential_unit_count', 'geometry']  # Add any other columns you want to keep\n",
    "squares_with_residential_units = squares_with_residential_units[columns_to_keep]\n",
    "\n",
    "columns_to_keep = ['identificatie', 'pand_identificatie', 'pop', 'geometry']  # Add any other columns you want to keep\n",
    "residential_units = residential_units[columns_to_keep]\n"
   ]
  },
  {
   "cell_type": "markdown",
   "metadata": {},
   "source": [
    "Categorize squares into groups for processing"
   ]
  },
  {
   "cell_type": "markdown",
   "metadata": {},
   "source": [
    "Group squares based on average household size"
   ]
  },
  {
   "cell_type": "code",
   "execution_count": 123,
   "metadata": {},
   "outputs": [
    {
     "name": "stdout",
     "output_type": "stream",
     "text": [
      "Number of squares with expected values: 9254\n",
      "This is 97.19 % of the total\n",
      "Number of squares with values lower than expected: 90\n",
      "This is 0.95 % of the total\n",
      "Number of squares with values higher than expected: 113\n",
      "This is 1.19 % of the total\n",
      "Number of squares with no stored population: 65\n",
      "This is 0.68 % of the total\n"
     ]
    }
   ],
   "source": [
    "#set negative values to 0\n",
    "squares_with_residential_units.loc[squares_with_residential_units['aantal_inwoners'] <= 0, 'aantal_inwoners'] = 0\n",
    "\n",
    "#calculate average household size for every square\n",
    "squares_with_residential_units['pop_building'] = squares_with_residential_units['aantal_inwoners']/squares_with_residential_units['residential_unit_count']\n",
    "\n",
    "squares_no_population = squares_with_residential_units[squares_with_residential_units['aantal_inwoners'] == 0]\n",
    "squares_low_average = squares_with_residential_units[\n",
    "    (squares_with_residential_units['pop_building'] > 0) & \n",
    "    (squares_with_residential_units['pop_building'] < 1)\n",
    "    ].copy()\n",
    "squares_high_average = squares_with_residential_units[squares_with_residential_units['pop_building'] > 6]\n",
    "squares_normal = squares_with_residential_units[\n",
    "   (squares_with_residential_units['aantal_inwoners'] != 0) & \n",
    "   (squares_with_residential_units['pop_building'] >= 1) & \n",
    "   (squares_with_residential_units['pop_building'] <= 6)\n",
    "].copy()\n",
    "\n",
    "print(f\"Number of squares with expected values: {len(squares_normal)}\")\n",
    "print(f\"This is {len(squares_normal)/len(squares_with_residential_units)*100:.2f} % of the total\")\n",
    "\n",
    "print(f\"Number of squares with values lower than expected: {len(squares_low_average)}\")\n",
    "print(f\"This is {len(squares_low_average)/len(squares_with_residential_units)*100:.2f} % of the total\")\n",
    "\n",
    "print(f\"Number of squares with values higher than expected: {len(squares_high_average)}\")\n",
    "print(f\"This is {len(squares_high_average)/len(squares_with_residential_units)*100:.2f} % of the total\")\n",
    "\n",
    "#squares_no_pop = squares_with_residential_units[squares_with_residential_units['aantal_inwoners'] <= 0].shape[0]\n",
    "print(f\"Number of squares with no stored population: {len(squares_no_population)}\")\n",
    "print(f\"This is {len(squares_no_population)/len(squares_with_residential_units)*100:.2f} % of the total\")"
   ]
  },
  {
   "cell_type": "markdown",
   "metadata": {},
   "source": [
    "Check within the squares with expected values whether it is possible to take single households into account"
   ]
  },
  {
   "cell_type": "code",
   "execution_count": 124,
   "metadata": {},
   "outputs": [
    {
     "name": "stdout",
     "output_type": "stream",
     "text": [
      "Distribution of household sizes:\n",
      "                         Count  Percentage\n",
      "householdsize_remaining                   \n",
      "0-1                         48        0.52\n",
      "1-2                        847        9.15\n",
      "2-6                       7875       85.10\n",
      "6-10                       205        2.22\n",
      "10+                        134        1.45\n",
      "\n",
      "Total squares: 9254\n"
     ]
    }
   ],
   "source": [
    "#set negative values to zero\n",
    "squares_normal.loc[squares_normal['aantal_eenpersoonshuishoudens'] < 0, 'aantal_eenpersoonshuishoudens'] = 0\n",
    "\n",
    "#calculate average household size after deducting single households\n",
    "squares_normal['remaining_pop'] = squares_normal['aantal_inwoners']-squares_normal['aantal_eenpersoonshuishoudens']\n",
    "squares_normal['remaining_building'] = squares_normal['residential_unit_count']-squares_normal['aantal_eenpersoonshuishoudens']\n",
    "squares_normal['householdsize_remaining'] = squares_normal['remaining_pop']/squares_normal['remaining_building']\n",
    "\n",
    "# Create bins and labels\n",
    "bins = [0, 1, 2, 6, 10, float('inf')]\n",
    "labels = ['0-1', '1-2', '2-6', '6-10', '10+']\n",
    "\n",
    "# Get value counts with bins\n",
    "counts = pd.cut(squares_normal['householdsize_remaining'], \n",
    "                bins=bins, \n",
    "                labels=labels, \n",
    "                include_lowest=True).value_counts()\n",
    "\n",
    "# Calculate percentages\n",
    "percentages = counts / len(squares_normal) * 100\n",
    "\n",
    "# Combine counts and percentages in a DataFrame for nice display\n",
    "summary = pd.DataFrame({\n",
    "    'Count': counts,\n",
    "    'Percentage': percentages.round(2)\n",
    "}).sort_index()\n",
    "\n",
    "print(\"Distribution of household sizes:\")\n",
    "print(summary)\n",
    "print(\"\\nTotal squares:\", len(squares_normal))\n",
    "\n",
    "#For values between 1 and 2 it is not possible to assign two persons to the remaining households, therefore 1 person will be assigned. After which the remaining population will be allocated randomly.\n",
    "#For values below 1 and above 6 random distribution will be applied due to high chance of error"
   ]
  },
  {
   "cell_type": "markdown",
   "metadata": {},
   "source": [
    "Group squares for processing (informed distribution, random distribution, static number)"
   ]
  },
  {
   "cell_type": "code",
   "execution_count": 125,
   "metadata": {},
   "outputs": [
    {
     "name": "stdout",
     "output_type": "stream",
     "text": [
      "Number of squares with informed distribution (1-6 persons per building): 9254\n",
      "Number of squares with randomly distributed population: 203\n",
      "Number of squares with static population (set number): 65\n",
      "Percentage of population in informed distribution: 98.18%\n",
      "Percentage of population in random distribution: 1.58%\n",
      "Percentage of population in static distribution: 0.24%\n"
     ]
    }
   ],
   "source": [
    "squares_informed = squares_normal[\n",
    "   (squares_normal['householdsize_remaining'] >= 1) & \n",
    "   (squares_normal['householdsize_remaining'] <= 6)\n",
    "].copy()\n",
    "\n",
    "squares_random = squares_normal[\n",
    "   (squares_normal['householdsize_remaining'] < 1) & \n",
    "   (squares_normal['householdsize_remaining'] > 6)\n",
    "].copy()\n",
    "\n",
    "squares_random = pd.concat([squares_random, squares_low_average], ignore_index=True)\n",
    "squares_random = pd.concat([squares_random, squares_high_average], ignore_index=True)\n",
    "\n",
    "squares_static = squares_no_population\n",
    "\n",
    "print(f\"Number of squares with informed distribution (1-6 persons per building): {len(squares_normal):}\")\n",
    "print(f\"Number of squares with randomly distributed population: {len(squares_random):,}\")\n",
    "print(f\"Number of squares with static population (set number): {len(squares_static):,}\")\n",
    "\n",
    "total_population_informed = squares_informed['aantal_inwoners'].sum()\n",
    "total_population_random = squares_random['aantal_inwoners'].sum()\n",
    "total_population_static = (squares_static['residential_unit_count'].sum())*2\n",
    "\n",
    "total_population = total_population_informed + total_population_random + total_population_static\n",
    "\n",
    "print(f\"Percentage of population in informed distribution: {(total_population_informed/total_population)*100:.2f}%\")\n",
    "print(f\"Percentage of population in random distribution: {(total_population_random/total_population)*100:.2f}%\")\n",
    "print(f\"Percentage of population in static distribution: {(total_population_static/total_population)*100:.2f}%\")\n",
    "\n"
   ]
  },
  {
   "cell_type": "markdown",
   "metadata": {},
   "source": [
    "Load buildings with paths"
   ]
  },
  {
   "cell_type": "code",
   "execution_count": null,
   "metadata": {},
   "outputs": [
    {
     "name": "stdout",
     "output_type": "stream",
     "text": [
      "            building_id                                      shortest_path\n",
      "0       393100000000637                                                 []\n",
      "1       393100000000409                                                 []\n",
      "2       394100000215377                                                 []\n",
      "3       393100000003321                                                 []\n",
      "4       363100012246859  [5412076069, 46520421, 46518243, 949635614, 46...\n",
      "...                 ...                                                ...\n",
      "161243  437100000002928  [10167299809, 46039725, 4734319723, 4734319746...\n",
      "161244  437100000005955  [569107921, 2297541079, 569107854, 46002289, 4...\n",
      "161245  437100000001919  [46038892, 2297541071, 46040188, 46041472, 460...\n",
      "161246  437100000005999  [2297541071, 46040188, 46041472, 46042097, 149...\n",
      "161247  437100000001306  [569107921, 2297541079, 569107854, 46002289, 4...\n",
      "\n",
      "[161248 rows x 2 columns]\n"
     ]
    }
   ],
   "source": [
    "# load split files\n",
    "\n",
    "import pandas as pd\n",
    "import ast\n",
    "\n",
    "file_name = \"./root/Outputs/building_shortest_path_to_cluster.xlsx\"\n",
    "buildings_path = pd.read_excel(file_name)\n",
    "\n",
    "# Convert 'shortest_path' column from string to list\n",
    "buildings_path['shortest_path'] = buildings_path['shortest_path'].apply(ast.literal_eval)\n",
    "# Keep only 'building_id' and 'shortest_path'\n",
    "buildings_path = buildings_path[['building_id', 'shortest_path']]\n",
    "\n",
    "print(buildings_path)"
   ]
  },
  {
   "cell_type": "markdown",
   "metadata": {},
   "source": [
    "Join buildings to add the geometry"
   ]
  },
  {
   "cell_type": "code",
   "execution_count": 127,
   "metadata": {},
   "outputs": [
    {
     "data": {
      "text/html": [
       "<div>\n",
       "<style scoped>\n",
       "    .dataframe tbody tr th:only-of-type {\n",
       "        vertical-align: middle;\n",
       "    }\n",
       "\n",
       "    .dataframe tbody tr th {\n",
       "        vertical-align: top;\n",
       "    }\n",
       "\n",
       "    .dataframe thead th {\n",
       "        text-align: right;\n",
       "    }\n",
       "</style>\n",
       "<table border=\"1\" class=\"dataframe\">\n",
       "  <thead>\n",
       "    <tr style=\"text-align: right;\">\n",
       "      <th></th>\n",
       "      <th>building_id</th>\n",
       "      <th>shortest_path</th>\n",
       "    </tr>\n",
       "  </thead>\n",
       "  <tbody>\n",
       "    <tr>\n",
       "      <th>0</th>\n",
       "      <td>393100000000637</td>\n",
       "      <td>[]</td>\n",
       "    </tr>\n",
       "    <tr>\n",
       "      <th>1</th>\n",
       "      <td>393100000000409</td>\n",
       "      <td>[]</td>\n",
       "    </tr>\n",
       "    <tr>\n",
       "      <th>2</th>\n",
       "      <td>394100000215377</td>\n",
       "      <td>[]</td>\n",
       "    </tr>\n",
       "    <tr>\n",
       "      <th>3</th>\n",
       "      <td>393100000003321</td>\n",
       "      <td>[]</td>\n",
       "    </tr>\n",
       "    <tr>\n",
       "      <th>4</th>\n",
       "      <td>363100012246859</td>\n",
       "      <td>[5412076069, 46520421, 46518243, 949635614, 46...</td>\n",
       "    </tr>\n",
       "    <tr>\n",
       "      <th>...</th>\n",
       "      <td>...</td>\n",
       "      <td>...</td>\n",
       "    </tr>\n",
       "    <tr>\n",
       "      <th>161243</th>\n",
       "      <td>437100000002928</td>\n",
       "      <td>[10167299809, 46039725, 4734319723, 4734319746...</td>\n",
       "    </tr>\n",
       "    <tr>\n",
       "      <th>161244</th>\n",
       "      <td>437100000005955</td>\n",
       "      <td>[569107921, 2297541079, 569107854, 46002289, 4...</td>\n",
       "    </tr>\n",
       "    <tr>\n",
       "      <th>161245</th>\n",
       "      <td>437100000001919</td>\n",
       "      <td>[46038892, 2297541071, 46040188, 46041472, 460...</td>\n",
       "    </tr>\n",
       "    <tr>\n",
       "      <th>161246</th>\n",
       "      <td>437100000005999</td>\n",
       "      <td>[2297541071, 46040188, 46041472, 46042097, 149...</td>\n",
       "    </tr>\n",
       "    <tr>\n",
       "      <th>161247</th>\n",
       "      <td>437100000001306</td>\n",
       "      <td>[569107921, 2297541079, 569107854, 46002289, 4...</td>\n",
       "    </tr>\n",
       "  </tbody>\n",
       "</table>\n",
       "<p>161248 rows × 2 columns</p>\n",
       "</div>"
      ],
      "text/plain": [
       "            building_id                                      shortest_path\n",
       "0       393100000000637                                                 []\n",
       "1       393100000000409                                                 []\n",
       "2       394100000215377                                                 []\n",
       "3       393100000003321                                                 []\n",
       "4       363100012246859  [5412076069, 46520421, 46518243, 949635614, 46...\n",
       "...                 ...                                                ...\n",
       "161243  437100000002928  [10167299809, 46039725, 4734319723, 4734319746...\n",
       "161244  437100000005955  [569107921, 2297541079, 569107854, 46002289, 4...\n",
       "161245  437100000001919  [46038892, 2297541071, 46040188, 46041472, 460...\n",
       "161246  437100000005999  [2297541071, 46040188, 46041472, 46042097, 149...\n",
       "161247  437100000001306  [569107921, 2297541079, 569107854, 46002289, 4...\n",
       "\n",
       "[161248 rows x 2 columns]"
      ]
     },
     "metadata": {},
     "output_type": "display_data"
    }
   ],
   "source": [
    "# Ensure both columns have the same type\n",
    "buildings['identificatie'] = buildings['identificatie'].astype(str).str.lstrip('0')\n",
    "buildings_path['building_id'] = buildings_path['building_id'].astype(str)\n",
    "\n",
    "# Merge to join geometry with shortest_path\n",
    "buildings_with_geometry = buildings.merge(\n",
    "    buildings_path, \n",
    "    left_on='identificatie', \n",
    "    right_on='building_id'\n",
    ")\n",
    "\n",
    "# Keep only 'identificatie', 'shortest_path', and 'geometry'\n",
    "buildings_with_geometry = buildings_with_geometry[['identificatie', 'shortest_path', 'geometry']]\n",
    "\n",
    "display(buildings_path)"
   ]
  },
  {
   "cell_type": "markdown",
   "metadata": {},
   "source": [
    "Delete buildings where the shortest path is more than 2500 m (not within walking distance)"
   ]
  },
  {
   "cell_type": "code",
   "execution_count": 128,
   "metadata": {},
   "outputs": [],
   "source": [
    "north, south, east, west = 52.43, 52.28, 5.10, 4.74\n",
    "\n",
    "#fetch network\n",
    "cf = \"\"\"\n",
    "     [\"area\"!~\"yes\"]\n",
    "     [\"highway\"]\n",
    "     [\"highway\"!~\"motor|proposed|construction|abandoned|platform|raceway\"]\n",
    "     [\"foot\"!~\"no\"]\n",
    "     [\"service\"!~\"private\"]\n",
    "     [\"access\"!~\"private\"]\n",
    "     \"\"\"\n",
    "\n",
    "#fetch network\n",
    "G = ox.graph_from_bbox(north, south, east, west, custom_filter=cf, network_type='walk', simplify= False, truncate_by_edge=True) "
   ]
  },
  {
   "cell_type": "code",
   "execution_count": 129,
   "metadata": {},
   "outputs": [
    {
     "data": {
      "text/html": [
       "<div>\n",
       "<style scoped>\n",
       "    .dataframe tbody tr th:only-of-type {\n",
       "        vertical-align: middle;\n",
       "    }\n",
       "\n",
       "    .dataframe tbody tr th {\n",
       "        vertical-align: top;\n",
       "    }\n",
       "\n",
       "    .dataframe thead th {\n",
       "        text-align: right;\n",
       "    }\n",
       "</style>\n",
       "<table border=\"1\" class=\"dataframe\">\n",
       "  <thead>\n",
       "    <tr style=\"text-align: right;\">\n",
       "      <th></th>\n",
       "      <th>identificatie</th>\n",
       "      <th>shortest_path</th>\n",
       "      <th>geometry</th>\n",
       "      <th>path_length_meters</th>\n",
       "    </tr>\n",
       "  </thead>\n",
       "  <tbody>\n",
       "    <tr>\n",
       "      <th>0</th>\n",
       "      <td>394100000214674</td>\n",
       "      <td>[]</td>\n",
       "      <td>POLYGON ((4.74280 52.38161, 4.74280 52.38161, ...</td>\n",
       "      <td>0.000</td>\n",
       "    </tr>\n",
       "    <tr>\n",
       "      <th>1</th>\n",
       "      <td>394100000214675</td>\n",
       "      <td>[]</td>\n",
       "      <td>POLYGON ((4.74287 52.38167, 4.74285 52.38165, ...</td>\n",
       "      <td>0.000</td>\n",
       "    </tr>\n",
       "    <tr>\n",
       "      <th>2</th>\n",
       "      <td>394100000214676</td>\n",
       "      <td>[]</td>\n",
       "      <td>POLYGON ((4.74286 52.38179, 4.74281 52.38175, ...</td>\n",
       "      <td>0.000</td>\n",
       "    </tr>\n",
       "    <tr>\n",
       "      <th>3</th>\n",
       "      <td>394100000214677</td>\n",
       "      <td>[]</td>\n",
       "      <td>POLYGON ((4.74292 52.38183, 4.74286 52.38179, ...</td>\n",
       "      <td>0.000</td>\n",
       "    </tr>\n",
       "    <tr>\n",
       "      <th>4</th>\n",
       "      <td>394100000214682</td>\n",
       "      <td>[]</td>\n",
       "      <td>POLYGON ((4.74300 52.38262, 4.74293 52.38266, ...</td>\n",
       "      <td>0.000</td>\n",
       "    </tr>\n",
       "    <tr>\n",
       "      <th>...</th>\n",
       "      <td>...</td>\n",
       "      <td>...</td>\n",
       "      <td>...</td>\n",
       "      <td>...</td>\n",
       "    </tr>\n",
       "    <tr>\n",
       "      <th>161243</th>\n",
       "      <td>437100000005999</td>\n",
       "      <td>[2297541071, 46040188, 46041472, 46042097, 149...</td>\n",
       "      <td>POLYGON ((4.91538 52.29042, 4.91548 52.29036, ...</td>\n",
       "      <td>1670.735</td>\n",
       "    </tr>\n",
       "    <tr>\n",
       "      <th>161244</th>\n",
       "      <td>437100000007763</td>\n",
       "      <td>[2297541071, 46040188, 46041472, 46042097, 149...</td>\n",
       "      <td>POLYGON ((4.91563 52.29049, 4.91562 52.29049, ...</td>\n",
       "      <td>1670.735</td>\n",
       "    </tr>\n",
       "    <tr>\n",
       "      <th>161245</th>\n",
       "      <td>437100000002928</td>\n",
       "      <td>[10167299809, 46039725, 4734319723, 4734319746...</td>\n",
       "      <td>POLYGON ((4.91961 52.29066, 4.91966 52.29060, ...</td>\n",
       "      <td>1754.740</td>\n",
       "    </tr>\n",
       "    <tr>\n",
       "      <th>161246</th>\n",
       "      <td>437100000001306</td>\n",
       "      <td>[569107921, 2297541079, 569107854, 46002289, 4...</td>\n",
       "      <td>POLYGON ((4.92225 52.28032, 4.92226 52.28025, ...</td>\n",
       "      <td>3012.374</td>\n",
       "    </tr>\n",
       "    <tr>\n",
       "      <th>161247</th>\n",
       "      <td>437100000005955</td>\n",
       "      <td>[569107921, 2297541079, 569107854, 46002289, 4...</td>\n",
       "      <td>POLYGON ((4.92279 52.28012, 4.92274 52.28034, ...</td>\n",
       "      <td>3012.374</td>\n",
       "    </tr>\n",
       "  </tbody>\n",
       "</table>\n",
       "<p>161248 rows × 4 columns</p>\n",
       "</div>"
      ],
      "text/plain": [
       "          identificatie                                      shortest_path  \\\n",
       "0       394100000214674                                                 []   \n",
       "1       394100000214675                                                 []   \n",
       "2       394100000214676                                                 []   \n",
       "3       394100000214677                                                 []   \n",
       "4       394100000214682                                                 []   \n",
       "...                 ...                                                ...   \n",
       "161243  437100000005999  [2297541071, 46040188, 46041472, 46042097, 149...   \n",
       "161244  437100000007763  [2297541071, 46040188, 46041472, 46042097, 149...   \n",
       "161245  437100000002928  [10167299809, 46039725, 4734319723, 4734319746...   \n",
       "161246  437100000001306  [569107921, 2297541079, 569107854, 46002289, 4...   \n",
       "161247  437100000005955  [569107921, 2297541079, 569107854, 46002289, 4...   \n",
       "\n",
       "                                                 geometry  path_length_meters  \n",
       "0       POLYGON ((4.74280 52.38161, 4.74280 52.38161, ...               0.000  \n",
       "1       POLYGON ((4.74287 52.38167, 4.74285 52.38165, ...               0.000  \n",
       "2       POLYGON ((4.74286 52.38179, 4.74281 52.38175, ...               0.000  \n",
       "3       POLYGON ((4.74292 52.38183, 4.74286 52.38179, ...               0.000  \n",
       "4       POLYGON ((4.74300 52.38262, 4.74293 52.38266, ...               0.000  \n",
       "...                                                   ...                 ...  \n",
       "161243  POLYGON ((4.91538 52.29042, 4.91548 52.29036, ...            1670.735  \n",
       "161244  POLYGON ((4.91563 52.29049, 4.91562 52.29049, ...            1670.735  \n",
       "161245  POLYGON ((4.91961 52.29066, 4.91966 52.29060, ...            1754.740  \n",
       "161246  POLYGON ((4.92225 52.28032, 4.92226 52.28025, ...            3012.374  \n",
       "161247  POLYGON ((4.92279 52.28012, 4.92274 52.28034, ...            3012.374  \n",
       "\n",
       "[161248 rows x 4 columns]"
      ]
     },
     "metadata": {},
     "output_type": "display_data"
    }
   ],
   "source": [
    "# Function to calculate path length\n",
    "def calculate_path_length(G, path):\n",
    "    length = 0\n",
    "    for u, v in zip(path[:-1], path[1:]):  # Iterate through pairs of consecutive nodes\n",
    "        try:\n",
    "            length += G[u][v][0]['length']  # Sum the lengths of the edges\n",
    "        except KeyError:\n",
    "            print(f\"Edge ({u}, {v}) not found in the graph. Skipping.\")\n",
    "    return length\n",
    "\n",
    "# Calculate distances for each path\n",
    "buildings_with_geometry['path_length_meters'] = buildings_with_geometry['shortest_path'].apply(lambda path: calculate_path_length(G, path))\n",
    "\n",
    "# Display the resulting dataframe\n",
    "display(buildings_with_geometry)\n"
   ]
  },
  {
   "cell_type": "code",
   "execution_count": 130,
   "metadata": {},
   "outputs": [],
   "source": [
    "#filter out buildings without shortest path or a path length of more than 2500 meters\n",
    "buildings_with_geometry = buildings_with_geometry[\n",
    "    (buildings_with_geometry['path_length_meters'] < 2500) &\n",
    "    (buildings_with_geometry['shortest_path'].str.len() > 0)\n",
    "]"
   ]
  },
  {
   "cell_type": "markdown",
   "metadata": {},
   "source": [
    "Clean data"
   ]
  },
  {
   "cell_type": "code",
   "execution_count": 131,
   "metadata": {},
   "outputs": [],
   "source": [
    "columns_to_keep = ['aantal_inwoners', 'aantal_inwoners_0_tot_15_jaar', 'aantal_inwoners_65_jaar_en_ouder', 'aantal_eenpersoonshuishoudens', 'residential_unit_count', 'geometry']  # Add any other columns you want to keep\n",
    "squares_informed = squares_informed[columns_to_keep]\n",
    "squares_random = squares_random[columns_to_keep]\n",
    "squares_static = squares_static[columns_to_keep]"
   ]
  },
  {
   "cell_type": "markdown",
   "metadata": {},
   "source": [
    "Allocate population to buildings"
   ]
  },
  {
   "cell_type": "markdown",
   "metadata": {},
   "source": [
    "Function for random distribution"
   ]
  },
  {
   "cell_type": "code",
   "execution_count": 132,
   "metadata": {},
   "outputs": [],
   "source": [
    "def run_random_population_distribution(squares_random, residential_units):\n",
    "    # Initialize an empty GeoDataFrame to store population results\n",
    "    residential_unit_population = gpd.GeoDataFrame()\n",
    "\n",
    "    # Process each square with progress bar\n",
    "    for i, squares_select in tqdm(squares_random.iterrows(), \n",
    "                                        desc=f\"Processing squares\", \n",
    "                                        total=len(squares_random)):\n",
    "        squares_select = gpd.GeoDataFrame([squares_select], geometry='geometry', crs=squares_random.crs)\n",
    "\n",
    "        # Get residential units within the current square\n",
    "        residential_unit_in_square = gpd.overlay(residential_units, squares_select, how='intersection')\n",
    "\n",
    "        # Reset index for proper sampling\n",
    "        residential_unit_in_square = residential_unit_in_square.reset_index(drop=True)\n",
    "\n",
    "        # Get total residents and age-specific counts for this square\n",
    "        total_residents = squares_select.iloc[0]['aantal_inwoners']\n",
    "        young_residents = squares_select.iloc[0]['aantal_inwoners_0_tot_15_jaar']\n",
    "        old_residents = squares_select.iloc[0]['aantal_inwoners_65_jaar_en_ouder']\n",
    "\n",
    "        # Initialize population for all residential units\n",
    "        residential_unit_in_square['pop'] = 0\n",
    "        residential_unit_in_square['young_pop'] = 0\n",
    "        residential_unit_in_square['old_pop'] = 0\n",
    "        residential_unit_in_square['remaining_capacity'] = 0\n",
    "\n",
    "        # Distribute total population randomly among residential units\n",
    "        remaining_residents = total_residents\n",
    "        if remaining_residents > 0:\n",
    "            while remaining_residents > 0:\n",
    "                random_unit = residential_unit_in_square.sample(n=1)\n",
    "                random_index = random_unit.index[0]\n",
    "                residential_unit_in_square.loc[random_index, 'pop'] += 1\n",
    "                residential_unit_in_square.loc[random_index, 'remaining_capacity'] += 1\n",
    "                remaining_residents -= 1\n",
    "\n",
    "        # Distribute young residents randomly among existing population\n",
    "        remaining_young = young_residents\n",
    "        if remaining_young > 0:\n",
    "            while remaining_young > 0:\n",
    "                eligible_units = residential_unit_in_square[\n",
    "                    (residential_unit_in_square['remaining_capacity'] > residential_unit_in_square['young_pop']) &\n",
    "                    (residential_unit_in_square['pop'] - residential_unit_in_square['young_pop'] > 1)\n",
    "                ]\n",
    "                if eligible_units.empty:\n",
    "                    break\n",
    "                random_unit = eligible_units.sample(n=1)\n",
    "                random_index = random_unit.index[0]\n",
    "                residential_unit_in_square.loc[random_index, 'young_pop'] += 1\n",
    "                residential_unit_in_square.loc[random_index, 'remaining_capacity'] -= 1\n",
    "                remaining_young -= 1\n",
    "\n",
    "        # Distribute old residents randomly among existing population\n",
    "        remaining_old = old_residents\n",
    "        if remaining_old > 0:\n",
    "            while remaining_old > 0:\n",
    "                eligible_units = residential_unit_in_square[\n",
    "                    residential_unit_in_square['remaining_capacity'] > residential_unit_in_square['old_pop']\n",
    "                ]\n",
    "                if eligible_units.empty:\n",
    "                    break\n",
    "                random_unit = eligible_units.sample(n=1)\n",
    "                random_index = random_unit.index[0]\n",
    "                residential_unit_in_square.loc[random_index, 'old_pop'] += 1\n",
    "                residential_unit_in_square.loc[random_index, 'remaining_capacity'] -= 1\n",
    "                remaining_old -= 1\n",
    "\n",
    "        # Append the results for this square to the main GeoDataFrame\n",
    "        residential_unit_population = pd.concat([residential_unit_population, residential_unit_in_square], ignore_index=True)\n",
    "\n",
    "    # Aggregate results\n",
    "    residential_unit_population_random = residential_unit_population[\n",
    "        ['identificatie', 'geometry', 'pop', 'young_pop', 'old_pop']\n",
    "    ]\n",
    "\n",
    "    return residential_unit_population_random\n"
   ]
  },
  {
   "cell_type": "markdown",
   "metadata": {},
   "source": [
    "Function for static distribution"
   ]
  },
  {
   "cell_type": "code",
   "execution_count": 133,
   "metadata": {},
   "outputs": [],
   "source": [
    "def run_static_population_distribution(squares_static, residential_units):\n",
    "    # Overlay operation for all squares\n",
    "    residential_unit_in_squares = gpd.overlay(residential_units, squares_static, how='intersection')\n",
    "    \n",
    "    # Assign static population of 2 to each residential unit\n",
    "    residential_unit_in_squares['pop_static'] = 2\n",
    "    \n",
    "    # Return only the residential units with static population\n",
    "    return residential_unit_in_squares[['identificatie', 'geometry', 'pop_static']]\n"
   ]
  },
  {
   "cell_type": "markdown",
   "metadata": {},
   "source": [
    "Function for informed distribution"
   ]
  },
  {
   "cell_type": "code",
   "execution_count": 134,
   "metadata": {},
   "outputs": [],
   "source": [
    "# Constants\n",
    "EPSG_CODE = 4326  # Default coordinate reference system\n",
    "\n",
    "def prepare_spatial_index(thread_args):\n",
    "    \"\"\"Pre-process spatial data for each thread to reduce GIL contention\"\"\"\n",
    "    squares_batch, residential_units, thread_number = thread_args\n",
    "\n",
    "    # Create spatial index for the batch area\n",
    "    batch_bounds = gpd.GeoDataFrame([square for square in squares_batch], \n",
    "                                  geometry='geometry').unary_union.bounds\n",
    "\n",
    "    # Filter verblijfsobject that intersects with batch bounds\n",
    "    mask = residential_units.bounds.apply(lambda row: (\n",
    "        row.minx <= batch_bounds[2] and \n",
    "        row.maxx >= batch_bounds[0] and \n",
    "        row.miny <= batch_bounds[3] and \n",
    "        row.maxy >= batch_bounds[1]\n",
    "    ), axis=1)\n",
    "    batch_residential_units = residential_units[mask].copy()\n",
    "\n",
    "    return squares_batch, batch_residential_units, thread_number\n",
    "\n",
    "def process_squares_batch(thread_args):\n",
    "    \"\"\"Process a batch of squares with pre-filtered spatial data\"\"\"\n",
    "    squares_batch, batch_residential_units, thread_number = thread_args\n",
    "    residential_unit_population = gpd.GeoDataFrame()\n",
    "\n",
    "    for square in tqdm(squares_batch, \n",
    "                      desc=f'Thread {thread_number}', \n",
    "                      position=thread_number):\n",
    "        squares_select = gpd.GeoDataFrame([square], geometry='geometry')\n",
    "\n",
    "        if squares_select.crs is None:\n",
    "            squares_select.set_crs(epsg=EPSG_CODE, inplace=True)\n",
    "        elif squares_select.crs != f'EPSG:{EPSG_CODE}':\n",
    "            squares_select = squares_select.to_crs(epsg=EPSG_CODE)\n",
    "\n",
    "        if batch_residential_units.crs is None:\n",
    "            batch_residential_units.set_crs(epsg=EPSG_CODE, inplace=True)\n",
    "        elif batch_residential_units.crs != f'EPSG:{EPSG_CODE}':\n",
    "            batch_residential_units = batch_residential_units.to_crs(epsg=EPSG_CODE)\n",
    "\n",
    "        residential_unit_in_square = gpd.overlay(batch_residential_units, squares_select, \n",
    "                                              how='intersection')\n",
    "\n",
    "        if len(residential_unit_in_square) == 0:\n",
    "            continue\n",
    "\n",
    "        residential_unit_in_square = residential_unit_in_square.reset_index(drop=True)\n",
    "\n",
    "        # Read input data\n",
    "        total_residents = squares_select.iloc[0]['aantal_inwoners']\n",
    "        oneperson_units = squares_select.iloc[0]['aantal_eenpersoonshuishoudens']\n",
    "        young_residents = squares_select.iloc[0]['aantal_inwoners_0_tot_15_jaar']\n",
    "        old_residents = squares_select.iloc[0]['aantal_inwoners_65_jaar_en_ouder']\n",
    "\n",
    "        # Initialize population\n",
    "        residential_unit_in_square['pop'] = 0\n",
    "        residential_unit_in_square['young_pop'] = 0\n",
    "        residential_unit_in_square['old_pop'] = 0\n",
    "        residential_unit_in_square['remaining_capacity'] = 0\n",
    "\n",
    "        # Handle one-person households\n",
    "        if oneperson_units < 0:\n",
    "            oneperson_units = 0\n",
    "\n",
    "        oneperson_units = min(oneperson_units, len(residential_unit_in_square))\n",
    "        remaining_residents = total_residents\n",
    "\n",
    "        single_households = np.random.choice(residential_unit_in_square.index, \n",
    "                                          size=oneperson_units, \n",
    "                                          replace=False)\n",
    "\n",
    "        residential_unit_in_square.loc[single_households, 'pop'] = 1\n",
    "        residential_unit_in_square.loc[single_households, 'remaining_capacity'] = 5  # Max capacity assumption\n",
    "        remaining_residents -= len(single_households)\n",
    "\n",
    "        remaining_units = np.setdiff1d(residential_unit_in_square.index, single_households)\n",
    "\n",
    "        if len(remaining_units) > 0:\n",
    "            if (len(remaining_units) * 2) < remaining_residents:\n",
    "                residential_unit_in_square.loc[remaining_units, 'pop'] = 2\n",
    "            elif len(remaining_units) < remaining_residents:\n",
    "                residential_unit_in_square.loc[remaining_units, 'pop'] = 1\n",
    "            elif len(remaining_units) > remaining_residents:\n",
    "                residential_unit_in_square.loc[remaining_units, 'pop'] = 0\n",
    "\n",
    "            remaining_residents = total_residents - residential_unit_in_square['pop'].sum()\n",
    "\n",
    "            if remaining_residents > 0:\n",
    "                while remaining_residents > 0 and len(remaining_units) > 0:\n",
    "                    random_index = np.random.choice(remaining_units)\n",
    "                    residential_unit_in_square.loc[random_index, 'pop'] += 1\n",
    "\n",
    "                    if residential_unit_in_square.loc[random_index, 'pop'] >= 6:\n",
    "                        remaining_units = remaining_units[remaining_units != random_index]\n",
    "\n",
    "                    remaining_residents -= 1\n",
    "\n",
    "        # Distribute young residents\n",
    "        remaining_young = young_residents\n",
    "        if remaining_young > 0:\n",
    "            while remaining_young > 0:\n",
    "                eligible_units = residential_unit_in_square[\n",
    "                    residential_unit_in_square['pop'] > residential_unit_in_square['young_pop']\n",
    "                ]\n",
    "                if eligible_units.empty:\n",
    "                    break\n",
    "                random_unit = eligible_units.sample(n=1)\n",
    "                random_index = random_unit.index[0]\n",
    "                residential_unit_in_square.loc[random_index, 'young_pop'] += 1\n",
    "                remaining_young -= 1\n",
    "\n",
    "        # Distribute old residents\n",
    "        remaining_old = old_residents\n",
    "        if remaining_old > 0:\n",
    "            while remaining_old > 0:\n",
    "                eligible_units = residential_unit_in_square[\n",
    "                    residential_unit_in_square['pop'] > residential_unit_in_square['old_pop']\n",
    "                ]\n",
    "                if eligible_units.empty:\n",
    "                    break\n",
    "                random_unit = eligible_units.sample(n=1)\n",
    "                random_index = random_unit.index[0]\n",
    "                residential_unit_in_square.loc[random_index, 'old_pop'] += 1\n",
    "                remaining_old -= 1\n",
    "\n",
    "        residential_unit_population = pd.concat([residential_unit_population, residential_unit_in_square], \n",
    "                                              ignore_index=True)\n",
    "\n",
    "    return residential_unit_population\n",
    "\n",
    "def run_informed_population_distribution(squares_informed, residential_units): \n",
    "    num_threads = os.cpu_count()\n",
    "    print(f\"Using {num_threads} threads for parallel processing\")\n",
    "\n",
    "    residential_unit_population_all_simulations = gpd.GeoDataFrame()\n",
    "\n",
    "\n",
    "    squares_list = list(squares_informed.itertuples())\n",
    "    batch_size = max(1, len(squares_list) // num_threads)\n",
    "\n",
    "    squares_list.sort(key=lambda x: x.geometry.centroid.x)\n",
    "    batches = [squares_list[i:i + batch_size] for i in range(0, len(squares_list), batch_size)]\n",
    "\n",
    "    thread_args = [\n",
    "        (batch, residential_units, i + 1) \n",
    "        for i, batch in enumerate(batches)\n",
    "    ]\n",
    "\n",
    "    with ThreadPoolExecutor(max_workers=num_threads) as executor:\n",
    "        thread_args = list(executor.map(prepare_spatial_index, thread_args))\n",
    "\n",
    "    residential_unit_population = gpd.GeoDataFrame()\n",
    "    with ThreadPoolExecutor(max_workers=num_threads) as executor:\n",
    "        futures = [executor.submit(process_squares_batch, args) for args in thread_args]\n",
    "\n",
    "        for future in futures:\n",
    "            result = future.result()\n",
    "            if not result.empty:\n",
    "                residential_unit_population = pd.concat([residential_unit_population, result], \n",
    "                                                    ignore_index=True)\n",
    "\n",
    "    for i in range(num_threads + 1):\n",
    "        print('\\033[F\\033[K', end='')\n",
    "\n",
    "\n",
    "    if residential_unit_population_all_simulations.empty:\n",
    "        residential_unit_population_all_simulations = residential_unit_population[\n",
    "            ['identificatie', 'geometry', 'pop', 'young_pop', 'old_pop']\n",
    "        ]\n",
    "    else:\n",
    "        residential_unit_population_all_simulations = residential_unit_population_all_simulations.merge(\n",
    "            residential_unit_population[['identificatie', 'pop', 'young_pop', 'old_pop']],\n",
    "            on='identificatie',\n",
    "            how='outer'\n",
    "        )\n",
    "\n",
    "    return residential_unit_population_all_simulations\n"
   ]
  },
  {
   "cell_type": "markdown",
   "metadata": {},
   "source": [
    "Run simulations"
   ]
  },
  {
   "cell_type": "code",
   "execution_count": 135,
   "metadata": {},
   "outputs": [],
   "source": [
    "#import buurten\n",
    "buurten = gpd.read_file(\"./root/Inputs/neighbourhoods.gpkg\", layer='buurten')\n",
    "buurten = buurten.to_crs(buildings.crs)"
   ]
  },
  {
   "cell_type": "code",
   "execution_count": 136,
   "metadata": {},
   "outputs": [],
   "source": [
    "#set number of simulations\n",
    "#Please note that this is a time-intensive operation. For reference, one simulation round for the city of Amsterdam takes about 30 minutes\n",
    "\n",
    "number_of_simulations = 1 #default = 1"
   ]
  },
  {
   "cell_type": "markdown",
   "metadata": {},
   "source": [
    "This part calculates the pedestrian intensity per edge:\n",
    "- residents are allocated to a residential unit\n",
    "- residential units are spatially overlayed with buildings to retreive the shortest path\n",
    "- the number of residents using a specific path is calculated\n",
    "- results are stored per simulation"
   ]
  },
  {
   "cell_type": "code",
   "execution_count": 137,
   "metadata": {},
   "outputs": [
    {
     "name": "stdout",
     "output_type": "stream",
     "text": [
      "start simulation: 1/1\n"
     ]
    },
    {
     "data": {
      "application/vnd.jupyter.widget-view+json": {
       "model_id": "270ad5901f724155b333e8c1beb62630",
       "version_major": 2,
       "version_minor": 0
      },
      "text/plain": [
       "Processing squares:   0%|          | 0/203 [00:00<?, ?it/s]"
      ]
     },
     "metadata": {},
     "output_type": "display_data"
    },
    {
     "name": "stdout",
     "output_type": "stream",
     "text": [
      "Using 12 threads for parallel processing\n"
     ]
    },
    {
     "data": {
      "application/vnd.jupyter.widget-view+json": {
       "model_id": "740b192f56d24a958a982a5c150d5995",
       "version_major": 2,
       "version_minor": 0
      },
      "text/plain": [
       "Thread 1:   0%|          | 0/729 [00:00<?, ?it/s]"
      ]
     },
     "metadata": {},
     "output_type": "display_data"
    },
    {
     "data": {
      "application/vnd.jupyter.widget-view+json": {
       "model_id": "937331fb45b54768ba17b6374724742d",
       "version_major": 2,
       "version_minor": 0
      },
      "text/plain": [
       "Thread 2:   0%|          | 0/729 [00:00<?, ?it/s]"
      ]
     },
     "metadata": {},
     "output_type": "display_data"
    },
    {
     "data": {
      "application/vnd.jupyter.widget-view+json": {
       "model_id": "619e8056205146bfadaf7cc77c29b3b7",
       "version_major": 2,
       "version_minor": 0
      },
      "text/plain": [
       "Thread 5:   0%|          | 0/729 [00:00<?, ?it/s]"
      ]
     },
     "metadata": {},
     "output_type": "display_data"
    },
    {
     "data": {
      "application/vnd.jupyter.widget-view+json": {
       "model_id": "d9b65bbfc18e44219561e7626db15921",
       "version_major": 2,
       "version_minor": 0
      },
      "text/plain": [
       "Thread 3:   0%|          | 0/729 [00:00<?, ?it/s]"
      ]
     },
     "metadata": {},
     "output_type": "display_data"
    },
    {
     "data": {
      "application/vnd.jupyter.widget-view+json": {
       "model_id": "65e671229caa4171b4bc6230d3179de2",
       "version_major": 2,
       "version_minor": 0
      },
      "text/plain": [
       "Thread 4:   0%|          | 0/729 [00:00<?, ?it/s]"
      ]
     },
     "metadata": {},
     "output_type": "display_data"
    },
    {
     "data": {
      "application/vnd.jupyter.widget-view+json": {
       "model_id": "d08d2eb87592490dbc8e1fa67d8720f0",
       "version_major": 2,
       "version_minor": 0
      },
      "text/plain": [
       "Thread 8:   0%|          | 0/729 [00:00<?, ?it/s]"
      ]
     },
     "metadata": {},
     "output_type": "display_data"
    },
    {
     "data": {
      "application/vnd.jupyter.widget-view+json": {
       "model_id": "2d58fc87842244968af81ec685383f22",
       "version_major": 2,
       "version_minor": 0
      },
      "text/plain": [
       "Thread 10:   0%|          | 0/729 [00:00<?, ?it/s]"
      ]
     },
     "metadata": {},
     "output_type": "display_data"
    },
    {
     "data": {
      "application/vnd.jupyter.widget-view+json": {
       "model_id": "e60ffc95cf4545e6865b83586e21eca0",
       "version_major": 2,
       "version_minor": 0
      },
      "text/plain": [
       "Thread 6:   0%|          | 0/729 [00:00<?, ?it/s]"
      ]
     },
     "metadata": {},
     "output_type": "display_data"
    },
    {
     "data": {
      "application/vnd.jupyter.widget-view+json": {
       "model_id": "8ecd432ee3cc4ee98766d58c42c4932d",
       "version_major": 2,
       "version_minor": 0
      },
      "text/plain": [
       "Thread 7:   0%|          | 0/729 [00:00<?, ?it/s]"
      ]
     },
     "metadata": {},
     "output_type": "display_data"
    },
    {
     "data": {
      "application/vnd.jupyter.widget-view+json": {
       "model_id": "c898f09e158c4e39a82243ebe08df4f0",
       "version_major": 2,
       "version_minor": 0
      },
      "text/plain": [
       "Thread 9:   0%|          | 0/729 [00:00<?, ?it/s]"
      ]
     },
     "metadata": {},
     "output_type": "display_data"
    },
    {
     "data": {
      "application/vnd.jupyter.widget-view+json": {
       "model_id": "b0a2993ed3f143649d4496e8db0ebd5d",
       "version_major": 2,
       "version_minor": 0
      },
      "text/plain": [
       "Thread 11:   0%|          | 0/729 [00:00<?, ?it/s]"
      ]
     },
     "metadata": {},
     "output_type": "display_data"
    },
    {
     "data": {
      "application/vnd.jupyter.widget-view+json": {
       "model_id": "e632c7025e154da98d30c07dd20480f6",
       "version_major": 2,
       "version_minor": 0
      },
      "text/plain": [
       "Thread 12:   0%|          | 0/729 [00:00<?, ?it/s]"
      ]
     },
     "metadata": {},
     "output_type": "display_data"
    },
    {
     "data": {
      "application/vnd.jupyter.widget-view+json": {
       "model_id": "ca656fccbd934d40ba80a01cb7f06194",
       "version_major": 2,
       "version_minor": 0
      },
      "text/plain": [
       "Thread 13:   0%|          | 0/1 [00:00<?, ?it/s]"
      ]
     },
     "metadata": {},
     "output_type": "display_data"
    },
    {
     "name": "stdout",
     "output_type": "stream",
     "text": [
      "\u001b[F\u001b[K\u001b[F\u001b[K\u001b[F\u001b[K\u001b[F\u001b[K\u001b[F\u001b[K\u001b[F\u001b[K\u001b[F\u001b[K\u001b[F\u001b[K\u001b[F\u001b[K\u001b[F\u001b[K\u001b[F\u001b[K\u001b[F\u001b[K\u001b[F\u001b[K"
     ]
    },
    {
     "data": {
      "application/vnd.jupyter.widget-view+json": {
       "model_id": "5fe36a632fdf4a0f8999623730f5cbe4",
       "version_major": 2,
       "version_minor": 0
      },
      "text/plain": [
       "Processing edges:   0%|          | 0/89963 [00:00<?, ?it/s]"
      ]
     },
     "metadata": {},
     "output_type": "display_data"
    },
    {
     "name": "stdout",
     "output_type": "stream",
     "text": [
      "\u001b[2J\u001b[HSimulation 1 done\n"
     ]
    }
   ],
   "source": [
    "#run simulations\n",
    "for sim in range(number_of_simulations):\n",
    "\n",
    "    print(f\"start simulation: {sim + 1}/{number_of_simulations}\")\n",
    "    #run static allocation\n",
    "    building_population_static = run_static_population_distribution(squares_static, residential_units)\n",
    "    #run random allocation\n",
    "    building_population_random = run_random_population_distribution(squares_random, residential_units)\n",
    "    #run informed random allocation\n",
    "    building_population_informed = run_informed_population_distribution(squares_informed, residential_units)\n",
    "\n",
    "    #fix columns of static population\n",
    "    building_population_static['pop'] = building_population_static['pop_static']\n",
    "    building_population_static = building_population_static.rename(columns={'pop_static': 'pop_unknown'})\n",
    "\n",
    "    #combine into one dataframe\n",
    "    combined_gdf = gpd.GeoDataFrame(pd.concat([building_population_informed, building_population_random, building_population_static], ignore_index=True))\n",
    "    combined_gdf.fillna(0, inplace=True)\n",
    "\n",
    "    # Convert numerical columns to integers\n",
    "    numeric_columns = combined_gdf.select_dtypes(include=[np.number]).columns\n",
    "    combined_gdf[numeric_columns] = combined_gdf[numeric_columns].astype(int)\n",
    "\n",
    "    #join with geometry\n",
    "    buildings_population_all_simulations = gpd.sjoin(\n",
    "        combined_gdf, \n",
    "        buildings_with_geometry[['geometry', 'shortest_path']], \n",
    "        how='left', \n",
    "        predicate='intersects'\n",
    "    )\n",
    "\n",
    "    # Perform a spatial join to add 'buurtcode' to buildings_population_all_simulations\n",
    "\n",
    "    #drop buildings with no path\n",
    "    buildings_population_all_simulations = buildings_population_all_simulations[\n",
    "        ~buildings_population_all_simulations['shortest_path'].isna()\n",
    "    ]\n",
    "    # Drop index_right\n",
    "    buildings_population_all_simulations = buildings_population_all_simulations.drop(columns=['index_right'], errors='ignore')\n",
    "\n",
    "    buildings_population_with_buurtcode = gpd.sjoin(\n",
    "        buildings_population_all_simulations, \n",
    "        buurten[['geometry', 'buurtcode']], \n",
    "        how='left', \n",
    "        predicate='intersects'\n",
    "    )\n",
    "\n",
    "    # Drop unnecessary columns added by the spatial join\n",
    "    buildings_population_with_buurtcode = buildings_population_with_buurtcode.drop(columns=['index_right'], errors='ignore')\n",
    "\n",
    "    # Function to convert nodes into edges\n",
    "    def nodes_to_edges(path):\n",
    "        if isinstance(path, list) and len(path) > 1:\n",
    "            return [(path[i], path[i + 1]) for i in range(len(path) - 1)]\n",
    "        return []\n",
    "\n",
    "    # Convert shortest_path into edges\n",
    "    buildings_population_with_buurtcode['edges'] = buildings_population_with_buurtcode['shortest_path'].apply(nodes_to_edges)\n",
    "\n",
    "    # Explode edges into individual rows\n",
    "    exploded_edges = buildings_population_with_buurtcode.explode('edges', ignore_index=True)\n",
    "\n",
    "    # Split edges into 'u' and 'v'\n",
    "    exploded_edges[['u', 'v']] = pd.DataFrame(\n",
    "        exploded_edges['edges'].tolist(), index=exploded_edges.index\n",
    "    )\n",
    "\n",
    "    # Precompute population sums per buurtcode, u, and v\n",
    "    precomputed = exploded_edges.groupby(['u', 'v', 'buurtcode']).agg({\n",
    "        'pop': 'sum',\n",
    "        'young_pop': 'sum',\n",
    "        'old_pop': 'sum',\n",
    "        'pop_unknown': 'sum'\n",
    "    }).reset_index()\n",
    "\n",
    "    # Group by edges and aggregate using tqdm for progress\n",
    "    edge_population_data = []\n",
    "    grouped_edges = precomputed.groupby(['u', 'v'])\n",
    "\n",
    "    for (u, v), group in tqdm(grouped_edges, desc=\"Processing edges\", total=len(grouped_edges)):\n",
    "        total_pop = group['pop'].sum()\n",
    "        total_pop_young = group['young_pop'].sum()\n",
    "        total_pop_old = group['old_pop'].sum()\n",
    "        total_pop_unknown = group['pop_unknown'].sum()\n",
    "        \n",
    "        buurtcode_dict = dict(zip(group['buurtcode'], group['pop']))\n",
    "        edge_population_data.append({\n",
    "            'u': u,\n",
    "            'v': v,\n",
    "            'pop': total_pop,\n",
    "            'young_pop': total_pop_young,\n",
    "            'old_pop': total_pop_old,\n",
    "            'pop_unknown': total_pop_unknown,        \n",
    "            'buurtcode': buurtcode_dict\n",
    "        })\n",
    "\n",
    "    # Create a DataFrame from the aggregated data\n",
    "    edge_population = pd.DataFrame(edge_population_data)\n",
    "\n",
    "    edge_population.rename(columns={\n",
    "        'pop_unknown': 'age-unknown_pop'\n",
    "    }, inplace=True)\n",
    "\n",
    "    # Ensure u and v are integers\n",
    "    edge_population['u'] = edge_population['u'].astype('int64')\n",
    "    edge_population['v'] = edge_population['v'].astype('int64')\n",
    "\n",
    "    #combine edges in both direction into one\n",
    "    edge_population['edge'] = edge_population.apply(lambda row: tuple(sorted([row['u'], row['v']])), axis=1)\n",
    "\n",
    "    # Function to combine count of buurtcodes\n",
    "    def combine_dicts(rows):\n",
    "        combined_dict = {}\n",
    "        for row in rows:\n",
    "            if isinstance(row, dict):\n",
    "                for key, value in row.items():\n",
    "                    combined_dict[key] = combined_dict.get(key, 0) + value\n",
    "        return combined_dict\n",
    "\n",
    "    \n",
    "    edge_population_combined = edge_population.groupby('edge').agg({\n",
    "        'pop': 'sum',\n",
    "        'buurtcode': lambda x: combine_dicts(x),  # Combine into a single dictionary\n",
    "        'young_pop': 'sum',  \n",
    "        'old_pop': 'sum',  \n",
    "        'age-unknown_pop': 'sum'  \n",
    "    }).reset_index()\n",
    "\n",
    "    # Restore `u` and `v` columns for clarity\n",
    "    edge_population_combined[['u', 'v']] = pd.DataFrame(edge_population_combined['edge'].tolist(), index=edge_population_combined.index)\n",
    "    edge_population_combined.drop(columns=['edge'], inplace=True)\n",
    "\n",
    "    #Export\n",
    "    edge_population_combined.to_excel(f'./root/Outputs/sim_results/edge_population_simulation_{sim + 1}.xlsx', index=False)\n",
    "\n",
    "print(\"\\033[2J\\033[H\", end=\"\")  # Clear terminal output\n",
    "print(f\"Simulation {sim + 1} done\")\n"
   ]
  }
 ],
 "metadata": {
  "kernelspec": {
   "display_name": "Python 3",
   "language": "python",
   "name": "python3"
  },
  "language_info": {
   "codemirror_mode": {
    "name": "ipython",
    "version": 3
   },
   "file_extension": ".py",
   "mimetype": "text/x-python",
   "name": "python",
   "nbconvert_exporter": "python",
   "pygments_lexer": "ipython3",
   "version": "3.11.5"
  }
 },
 "nbformat": 4,
 "nbformat_minor": 2
}
